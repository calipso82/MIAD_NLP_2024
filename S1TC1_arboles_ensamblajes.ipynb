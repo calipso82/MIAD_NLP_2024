{
  "cells": [
    {
      "cell_type": "markdown",
      "metadata": {
        "id": "view-in-github",
        "colab_type": "text"
      },
      "source": [
        "<a href=\"https://colab.research.google.com/github/calipso82/MIAD_NLP_2024/blob/main/S1TC1_arboles_ensamblajes.ipynb\" target=\"_parent\"><img src=\"https://colab.research.google.com/assets/colab-badge.svg\" alt=\"Open In Colab\"/></a>"
      ]
    },
    {
      "cell_type": "markdown",
      "metadata": {
        "id": "k5MbKPFsfmuP"
      },
      "source": [
        "![image info](https://raw.githubusercontent.com/albahnsen/MIAD_ML_and_NLP/main/images/banner_1.png)"
      ]
    },
    {
      "cell_type": "markdown",
      "metadata": {
        "id": "Yps5T_-TfmuQ"
      },
      "source": [
        "# Taller: Construcción e implementación de árboles de decisión y métodos de ensamblaje\n",
        "\n",
        "En este taller podrá poner en práctica los sus conocimientos sobre construcción e implementación de árboles de decisión y métodos de ensamblajes. El taller está constituido por 9 puntos, 5 relacionados con árboles de decisión (parte A) y 4 con métodos de ensamblaje (parte B)."
      ]
    },
    {
      "cell_type": "markdown",
      "metadata": {
        "id": "OKHxyYy3fmuR"
      },
      "source": [
        "## Parte A - Árboles de decisión\n",
        "\n",
        "En esta parte del taller se usará el conjunto de datos de Capital Bikeshare de Kaggle, donde cada observación representa el alquiler de bicicletas durante una hora y día determinado. Para más detalles puede visitar los siguientes enlaces: [datos](https://archive.ics.uci.edu/ml/machine-learning-databases/00275/Bike-Sharing-Dataset.zip), [dicccionario de datos](https://archive.ics.uci.edu/ml/datasets/Bike+Sharing+Dataset#)."
      ]
    },
    {
      "cell_type": "markdown",
      "metadata": {
        "id": "V8vLGDCDfmuR"
      },
      "source": [
        "### Datos prestamo de bicicletas"
      ]
    },
    {
      "cell_type": "code",
      "execution_count": 1,
      "metadata": {
        "id": "yxQPWlKwfmuR"
      },
      "outputs": [],
      "source": [
        "import warnings\n",
        "warnings.filterwarnings('ignore')"
      ]
    },
    {
      "cell_type": "code",
      "execution_count": 2,
      "metadata": {
        "id": "zctcyHsnfmuS"
      },
      "outputs": [],
      "source": [
        "# Importación de librerías\n",
        "%matplotlib inline\n",
        "import pandas as pd\n",
        "import numpy as np\n",
        "from sklearn.model_selection import cross_val_score\n",
        "from sklearn.linear_model import LinearRegression\n",
        "from sklearn.tree import DecisionTreeRegressor, export_graphviz"
      ]
    },
    {
      "cell_type": "code",
      "execution_count": 3,
      "metadata": {
        "colab": {
          "base_uri": "https://localhost:8080/",
          "height": 238
        },
        "id": "iDuPiS1IfmuS",
        "outputId": "30017ae4-65cc-421f-dd09-56a3d281211b"
      },
      "outputs": [
        {
          "output_type": "execute_result",
          "data": {
            "text/plain": [
              "                     season  holiday  workingday  weather  temp   atemp  \\\n",
              "datetime                                                                  \n",
              "2011-01-01 00:00:00       1        0           0        1  9.84  14.395   \n",
              "2011-01-01 01:00:00       1        0           0        1  9.02  13.635   \n",
              "2011-01-01 02:00:00       1        0           0        1  9.02  13.635   \n",
              "2011-01-01 03:00:00       1        0           0        1  9.84  14.395   \n",
              "2011-01-01 04:00:00       1        0           0        1  9.84  14.395   \n",
              "\n",
              "                     humidity  windspeed  casual  registered  total  hour  \n",
              "datetime                                                                   \n",
              "2011-01-01 00:00:00        81        0.0       3          13     16     0  \n",
              "2011-01-01 01:00:00        80        0.0       8          32     40     1  \n",
              "2011-01-01 02:00:00        80        0.0       5          27     32     2  \n",
              "2011-01-01 03:00:00        75        0.0       3          10     13     3  \n",
              "2011-01-01 04:00:00        75        0.0       0           1      1     4  "
            ],
            "text/html": [
              "\n",
              "  <div id=\"df-2cf589b1-58f0-4de8-83a7-4c05731023a4\" class=\"colab-df-container\">\n",
              "    <div>\n",
              "<style scoped>\n",
              "    .dataframe tbody tr th:only-of-type {\n",
              "        vertical-align: middle;\n",
              "    }\n",
              "\n",
              "    .dataframe tbody tr th {\n",
              "        vertical-align: top;\n",
              "    }\n",
              "\n",
              "    .dataframe thead th {\n",
              "        text-align: right;\n",
              "    }\n",
              "</style>\n",
              "<table border=\"1\" class=\"dataframe\">\n",
              "  <thead>\n",
              "    <tr style=\"text-align: right;\">\n",
              "      <th></th>\n",
              "      <th>season</th>\n",
              "      <th>holiday</th>\n",
              "      <th>workingday</th>\n",
              "      <th>weather</th>\n",
              "      <th>temp</th>\n",
              "      <th>atemp</th>\n",
              "      <th>humidity</th>\n",
              "      <th>windspeed</th>\n",
              "      <th>casual</th>\n",
              "      <th>registered</th>\n",
              "      <th>total</th>\n",
              "      <th>hour</th>\n",
              "    </tr>\n",
              "    <tr>\n",
              "      <th>datetime</th>\n",
              "      <th></th>\n",
              "      <th></th>\n",
              "      <th></th>\n",
              "      <th></th>\n",
              "      <th></th>\n",
              "      <th></th>\n",
              "      <th></th>\n",
              "      <th></th>\n",
              "      <th></th>\n",
              "      <th></th>\n",
              "      <th></th>\n",
              "      <th></th>\n",
              "    </tr>\n",
              "  </thead>\n",
              "  <tbody>\n",
              "    <tr>\n",
              "      <th>2011-01-01 00:00:00</th>\n",
              "      <td>1</td>\n",
              "      <td>0</td>\n",
              "      <td>0</td>\n",
              "      <td>1</td>\n",
              "      <td>9.84</td>\n",
              "      <td>14.395</td>\n",
              "      <td>81</td>\n",
              "      <td>0.0</td>\n",
              "      <td>3</td>\n",
              "      <td>13</td>\n",
              "      <td>16</td>\n",
              "      <td>0</td>\n",
              "    </tr>\n",
              "    <tr>\n",
              "      <th>2011-01-01 01:00:00</th>\n",
              "      <td>1</td>\n",
              "      <td>0</td>\n",
              "      <td>0</td>\n",
              "      <td>1</td>\n",
              "      <td>9.02</td>\n",
              "      <td>13.635</td>\n",
              "      <td>80</td>\n",
              "      <td>0.0</td>\n",
              "      <td>8</td>\n",
              "      <td>32</td>\n",
              "      <td>40</td>\n",
              "      <td>1</td>\n",
              "    </tr>\n",
              "    <tr>\n",
              "      <th>2011-01-01 02:00:00</th>\n",
              "      <td>1</td>\n",
              "      <td>0</td>\n",
              "      <td>0</td>\n",
              "      <td>1</td>\n",
              "      <td>9.02</td>\n",
              "      <td>13.635</td>\n",
              "      <td>80</td>\n",
              "      <td>0.0</td>\n",
              "      <td>5</td>\n",
              "      <td>27</td>\n",
              "      <td>32</td>\n",
              "      <td>2</td>\n",
              "    </tr>\n",
              "    <tr>\n",
              "      <th>2011-01-01 03:00:00</th>\n",
              "      <td>1</td>\n",
              "      <td>0</td>\n",
              "      <td>0</td>\n",
              "      <td>1</td>\n",
              "      <td>9.84</td>\n",
              "      <td>14.395</td>\n",
              "      <td>75</td>\n",
              "      <td>0.0</td>\n",
              "      <td>3</td>\n",
              "      <td>10</td>\n",
              "      <td>13</td>\n",
              "      <td>3</td>\n",
              "    </tr>\n",
              "    <tr>\n",
              "      <th>2011-01-01 04:00:00</th>\n",
              "      <td>1</td>\n",
              "      <td>0</td>\n",
              "      <td>0</td>\n",
              "      <td>1</td>\n",
              "      <td>9.84</td>\n",
              "      <td>14.395</td>\n",
              "      <td>75</td>\n",
              "      <td>0.0</td>\n",
              "      <td>0</td>\n",
              "      <td>1</td>\n",
              "      <td>1</td>\n",
              "      <td>4</td>\n",
              "    </tr>\n",
              "  </tbody>\n",
              "</table>\n",
              "</div>\n",
              "    <div class=\"colab-df-buttons\">\n",
              "\n",
              "  <div class=\"colab-df-container\">\n",
              "    <button class=\"colab-df-convert\" onclick=\"convertToInteractive('df-2cf589b1-58f0-4de8-83a7-4c05731023a4')\"\n",
              "            title=\"Convert this dataframe to an interactive table.\"\n",
              "            style=\"display:none;\">\n",
              "\n",
              "  <svg xmlns=\"http://www.w3.org/2000/svg\" height=\"24px\" viewBox=\"0 -960 960 960\">\n",
              "    <path d=\"M120-120v-720h720v720H120Zm60-500h600v-160H180v160Zm220 220h160v-160H400v160Zm0 220h160v-160H400v160ZM180-400h160v-160H180v160Zm440 0h160v-160H620v160ZM180-180h160v-160H180v160Zm440 0h160v-160H620v160Z\"/>\n",
              "  </svg>\n",
              "    </button>\n",
              "\n",
              "  <style>\n",
              "    .colab-df-container {\n",
              "      display:flex;\n",
              "      gap: 12px;\n",
              "    }\n",
              "\n",
              "    .colab-df-convert {\n",
              "      background-color: #E8F0FE;\n",
              "      border: none;\n",
              "      border-radius: 50%;\n",
              "      cursor: pointer;\n",
              "      display: none;\n",
              "      fill: #1967D2;\n",
              "      height: 32px;\n",
              "      padding: 0 0 0 0;\n",
              "      width: 32px;\n",
              "    }\n",
              "\n",
              "    .colab-df-convert:hover {\n",
              "      background-color: #E2EBFA;\n",
              "      box-shadow: 0px 1px 2px rgba(60, 64, 67, 0.3), 0px 1px 3px 1px rgba(60, 64, 67, 0.15);\n",
              "      fill: #174EA6;\n",
              "    }\n",
              "\n",
              "    .colab-df-buttons div {\n",
              "      margin-bottom: 4px;\n",
              "    }\n",
              "\n",
              "    [theme=dark] .colab-df-convert {\n",
              "      background-color: #3B4455;\n",
              "      fill: #D2E3FC;\n",
              "    }\n",
              "\n",
              "    [theme=dark] .colab-df-convert:hover {\n",
              "      background-color: #434B5C;\n",
              "      box-shadow: 0px 1px 3px 1px rgba(0, 0, 0, 0.15);\n",
              "      filter: drop-shadow(0px 1px 2px rgba(0, 0, 0, 0.3));\n",
              "      fill: #FFFFFF;\n",
              "    }\n",
              "  </style>\n",
              "\n",
              "    <script>\n",
              "      const buttonEl =\n",
              "        document.querySelector('#df-2cf589b1-58f0-4de8-83a7-4c05731023a4 button.colab-df-convert');\n",
              "      buttonEl.style.display =\n",
              "        google.colab.kernel.accessAllowed ? 'block' : 'none';\n",
              "\n",
              "      async function convertToInteractive(key) {\n",
              "        const element = document.querySelector('#df-2cf589b1-58f0-4de8-83a7-4c05731023a4');\n",
              "        const dataTable =\n",
              "          await google.colab.kernel.invokeFunction('convertToInteractive',\n",
              "                                                    [key], {});\n",
              "        if (!dataTable) return;\n",
              "\n",
              "        const docLinkHtml = 'Like what you see? Visit the ' +\n",
              "          '<a target=\"_blank\" href=https://colab.research.google.com/notebooks/data_table.ipynb>data table notebook</a>'\n",
              "          + ' to learn more about interactive tables.';\n",
              "        element.innerHTML = '';\n",
              "        dataTable['output_type'] = 'display_data';\n",
              "        await google.colab.output.renderOutput(dataTable, element);\n",
              "        const docLink = document.createElement('div');\n",
              "        docLink.innerHTML = docLinkHtml;\n",
              "        element.appendChild(docLink);\n",
              "      }\n",
              "    </script>\n",
              "  </div>\n",
              "\n",
              "\n",
              "<div id=\"df-c5c8cffe-f983-4695-b2e4-b7760105021a\">\n",
              "  <button class=\"colab-df-quickchart\" onclick=\"quickchart('df-c5c8cffe-f983-4695-b2e4-b7760105021a')\"\n",
              "            title=\"Suggest charts\"\n",
              "            style=\"display:none;\">\n",
              "\n",
              "<svg xmlns=\"http://www.w3.org/2000/svg\" height=\"24px\"viewBox=\"0 0 24 24\"\n",
              "     width=\"24px\">\n",
              "    <g>\n",
              "        <path d=\"M19 3H5c-1.1 0-2 .9-2 2v14c0 1.1.9 2 2 2h14c1.1 0 2-.9 2-2V5c0-1.1-.9-2-2-2zM9 17H7v-7h2v7zm4 0h-2V7h2v10zm4 0h-2v-4h2v4z\"/>\n",
              "    </g>\n",
              "</svg>\n",
              "  </button>\n",
              "\n",
              "<style>\n",
              "  .colab-df-quickchart {\n",
              "      --bg-color: #E8F0FE;\n",
              "      --fill-color: #1967D2;\n",
              "      --hover-bg-color: #E2EBFA;\n",
              "      --hover-fill-color: #174EA6;\n",
              "      --disabled-fill-color: #AAA;\n",
              "      --disabled-bg-color: #DDD;\n",
              "  }\n",
              "\n",
              "  [theme=dark] .colab-df-quickchart {\n",
              "      --bg-color: #3B4455;\n",
              "      --fill-color: #D2E3FC;\n",
              "      --hover-bg-color: #434B5C;\n",
              "      --hover-fill-color: #FFFFFF;\n",
              "      --disabled-bg-color: #3B4455;\n",
              "      --disabled-fill-color: #666;\n",
              "  }\n",
              "\n",
              "  .colab-df-quickchart {\n",
              "    background-color: var(--bg-color);\n",
              "    border: none;\n",
              "    border-radius: 50%;\n",
              "    cursor: pointer;\n",
              "    display: none;\n",
              "    fill: var(--fill-color);\n",
              "    height: 32px;\n",
              "    padding: 0;\n",
              "    width: 32px;\n",
              "  }\n",
              "\n",
              "  .colab-df-quickchart:hover {\n",
              "    background-color: var(--hover-bg-color);\n",
              "    box-shadow: 0 1px 2px rgba(60, 64, 67, 0.3), 0 1px 3px 1px rgba(60, 64, 67, 0.15);\n",
              "    fill: var(--button-hover-fill-color);\n",
              "  }\n",
              "\n",
              "  .colab-df-quickchart-complete:disabled,\n",
              "  .colab-df-quickchart-complete:disabled:hover {\n",
              "    background-color: var(--disabled-bg-color);\n",
              "    fill: var(--disabled-fill-color);\n",
              "    box-shadow: none;\n",
              "  }\n",
              "\n",
              "  .colab-df-spinner {\n",
              "    border: 2px solid var(--fill-color);\n",
              "    border-color: transparent;\n",
              "    border-bottom-color: var(--fill-color);\n",
              "    animation:\n",
              "      spin 1s steps(1) infinite;\n",
              "  }\n",
              "\n",
              "  @keyframes spin {\n",
              "    0% {\n",
              "      border-color: transparent;\n",
              "      border-bottom-color: var(--fill-color);\n",
              "      border-left-color: var(--fill-color);\n",
              "    }\n",
              "    20% {\n",
              "      border-color: transparent;\n",
              "      border-left-color: var(--fill-color);\n",
              "      border-top-color: var(--fill-color);\n",
              "    }\n",
              "    30% {\n",
              "      border-color: transparent;\n",
              "      border-left-color: var(--fill-color);\n",
              "      border-top-color: var(--fill-color);\n",
              "      border-right-color: var(--fill-color);\n",
              "    }\n",
              "    40% {\n",
              "      border-color: transparent;\n",
              "      border-right-color: var(--fill-color);\n",
              "      border-top-color: var(--fill-color);\n",
              "    }\n",
              "    60% {\n",
              "      border-color: transparent;\n",
              "      border-right-color: var(--fill-color);\n",
              "    }\n",
              "    80% {\n",
              "      border-color: transparent;\n",
              "      border-right-color: var(--fill-color);\n",
              "      border-bottom-color: var(--fill-color);\n",
              "    }\n",
              "    90% {\n",
              "      border-color: transparent;\n",
              "      border-bottom-color: var(--fill-color);\n",
              "    }\n",
              "  }\n",
              "</style>\n",
              "\n",
              "  <script>\n",
              "    async function quickchart(key) {\n",
              "      const quickchartButtonEl =\n",
              "        document.querySelector('#' + key + ' button');\n",
              "      quickchartButtonEl.disabled = true;  // To prevent multiple clicks.\n",
              "      quickchartButtonEl.classList.add('colab-df-spinner');\n",
              "      try {\n",
              "        const charts = await google.colab.kernel.invokeFunction(\n",
              "            'suggestCharts', [key], {});\n",
              "      } catch (error) {\n",
              "        console.error('Error during call to suggestCharts:', error);\n",
              "      }\n",
              "      quickchartButtonEl.classList.remove('colab-df-spinner');\n",
              "      quickchartButtonEl.classList.add('colab-df-quickchart-complete');\n",
              "    }\n",
              "    (() => {\n",
              "      let quickchartButtonEl =\n",
              "        document.querySelector('#df-c5c8cffe-f983-4695-b2e4-b7760105021a button');\n",
              "      quickchartButtonEl.style.display =\n",
              "        google.colab.kernel.accessAllowed ? 'block' : 'none';\n",
              "    })();\n",
              "  </script>\n",
              "</div>\n",
              "\n",
              "    </div>\n",
              "  </div>\n"
            ],
            "application/vnd.google.colaboratory.intrinsic+json": {
              "type": "dataframe",
              "variable_name": "bikes",
              "summary": "{\n  \"name\": \"bikes\",\n  \"rows\": 10886,\n  \"fields\": [\n    {\n      \"column\": \"datetime\",\n      \"properties\": {\n        \"dtype\": \"date\",\n        \"min\": \"2011-01-01 00:00:00\",\n        \"max\": \"2012-12-19 23:00:00\",\n        \"num_unique_values\": 10886,\n        \"samples\": [\n          \"2011-07-19 11:00:00\",\n          \"2012-01-16 06:00:00\",\n          \"2011-12-11 18:00:00\"\n        ],\n        \"semantic_type\": \"\",\n        \"description\": \"\"\n      }\n    },\n    {\n      \"column\": \"season\",\n      \"properties\": {\n        \"dtype\": \"number\",\n        \"std\": 1,\n        \"min\": 1,\n        \"max\": 4,\n        \"num_unique_values\": 4,\n        \"samples\": [\n          2,\n          4,\n          1\n        ],\n        \"semantic_type\": \"\",\n        \"description\": \"\"\n      }\n    },\n    {\n      \"column\": \"holiday\",\n      \"properties\": {\n        \"dtype\": \"number\",\n        \"std\": 0,\n        \"min\": 0,\n        \"max\": 1,\n        \"num_unique_values\": 2,\n        \"samples\": [\n          1,\n          0\n        ],\n        \"semantic_type\": \"\",\n        \"description\": \"\"\n      }\n    },\n    {\n      \"column\": \"workingday\",\n      \"properties\": {\n        \"dtype\": \"number\",\n        \"std\": 0,\n        \"min\": 0,\n        \"max\": 1,\n        \"num_unique_values\": 2,\n        \"samples\": [\n          1,\n          0\n        ],\n        \"semantic_type\": \"\",\n        \"description\": \"\"\n      }\n    },\n    {\n      \"column\": \"weather\",\n      \"properties\": {\n        \"dtype\": \"number\",\n        \"std\": 0,\n        \"min\": 1,\n        \"max\": 4,\n        \"num_unique_values\": 4,\n        \"samples\": [\n          2,\n          4\n        ],\n        \"semantic_type\": \"\",\n        \"description\": \"\"\n      }\n    },\n    {\n      \"column\": \"temp\",\n      \"properties\": {\n        \"dtype\": \"number\",\n        \"std\": 7.791589843987567,\n        \"min\": 0.82,\n        \"max\": 41.0,\n        \"num_unique_values\": 49,\n        \"samples\": [\n          6.56,\n          1.64\n        ],\n        \"semantic_type\": \"\",\n        \"description\": \"\"\n      }\n    },\n    {\n      \"column\": \"atemp\",\n      \"properties\": {\n        \"dtype\": \"number\",\n        \"std\": 8.474600626484948,\n        \"min\": 0.76,\n        \"max\": 45.455,\n        \"num_unique_values\": 60,\n        \"samples\": [\n          14.395,\n          16.665\n        ],\n        \"semantic_type\": \"\",\n        \"description\": \"\"\n      }\n    },\n    {\n      \"column\": \"humidity\",\n      \"properties\": {\n        \"dtype\": \"number\",\n        \"std\": 19,\n        \"min\": 0,\n        \"max\": 100,\n        \"num_unique_values\": 89,\n        \"samples\": [\n          29,\n          61\n        ],\n        \"semantic_type\": \"\",\n        \"description\": \"\"\n      }\n    },\n    {\n      \"column\": \"windspeed\",\n      \"properties\": {\n        \"dtype\": \"number\",\n        \"std\": 8.164537326838689,\n        \"min\": 0.0,\n        \"max\": 56.9969,\n        \"num_unique_values\": 28,\n        \"samples\": [\n          22.0028,\n          43.0006\n        ],\n        \"semantic_type\": \"\",\n        \"description\": \"\"\n      }\n    },\n    {\n      \"column\": \"casual\",\n      \"properties\": {\n        \"dtype\": \"number\",\n        \"std\": 49,\n        \"min\": 0,\n        \"max\": 367,\n        \"num_unique_values\": 309,\n        \"samples\": [\n          287,\n          47\n        ],\n        \"semantic_type\": \"\",\n        \"description\": \"\"\n      }\n    },\n    {\n      \"column\": \"registered\",\n      \"properties\": {\n        \"dtype\": \"number\",\n        \"std\": 151,\n        \"min\": 0,\n        \"max\": 886,\n        \"num_unique_values\": 731,\n        \"samples\": [\n          566,\n          9\n        ],\n        \"semantic_type\": \"\",\n        \"description\": \"\"\n      }\n    },\n    {\n      \"column\": \"total\",\n      \"properties\": {\n        \"dtype\": \"number\",\n        \"std\": 181,\n        \"min\": 1,\n        \"max\": 977,\n        \"num_unique_values\": 822,\n        \"samples\": [\n          626,\n          256\n        ],\n        \"semantic_type\": \"\",\n        \"description\": \"\"\n      }\n    },\n    {\n      \"column\": \"hour\",\n      \"properties\": {\n        \"dtype\": \"int32\",\n        \"num_unique_values\": 24,\n        \"samples\": [\n          8,\n          16\n        ],\n        \"semantic_type\": \"\",\n        \"description\": \"\"\n      }\n    }\n  ]\n}"
            }
          },
          "metadata": {},
          "execution_count": 3
        }
      ],
      "source": [
        "# Lectura de la información de archivo .csv\n",
        "bikes = pd.read_csv('https://raw.githubusercontent.com/davidzarruk/MIAD_ML_NLP_2023/main/datasets/bikeshare.csv', index_col='datetime', parse_dates=True)\n",
        "\n",
        "# Renombrar variable \"count\" a \"total\"\n",
        "bikes.rename(columns={'count':'total'}, inplace=True)\n",
        "\n",
        "# Crear la hora como una variable\n",
        "bikes['hour'] = bikes.index.hour\n",
        "\n",
        "# Visualización de los datos\n",
        "bikes.head()"
      ]
    },
    {
      "cell_type": "markdown",
      "metadata": {
        "id": "1qw1vK77fmuS"
      },
      "source": [
        "### Punto 1 - Análisis descriptivo\n",
        "\n",
        "Ejecute las celdas 1.1 y 1.2. A partir de los resultados realice un análisis descriptivo sobre las variables \"season\" y \"hour\", escriba sus inferencias sobre los datos. Para complementar su análisis puede usar métricas como máximo, mínimo, percentiles entre otros."
      ]
    },
    {
      "cell_type": "code",
      "execution_count": 4,
      "metadata": {
        "colab": {
          "base_uri": "https://localhost:8080/"
        },
        "id": "pMJxZO-YfmuS",
        "outputId": "837ccdfe-6029-47ea-f3f2-3d6626494c16"
      },
      "outputs": [
        {
          "output_type": "execute_result",
          "data": {
            "text/plain": [
              "season\n",
              "1    116.343261\n",
              "2    215.251372\n",
              "3    234.417124\n",
              "4    198.988296\n",
              "Name: total, dtype: float64"
            ]
          },
          "metadata": {},
          "execution_count": 4
        }
      ],
      "source": [
        "# Celda 1.1\n",
        "bikes.groupby('season').total.mean()"
      ]
    },
    {
      "cell_type": "code",
      "execution_count": 5,
      "metadata": {
        "scrolled": true,
        "colab": {
          "base_uri": "https://localhost:8080/"
        },
        "id": "ygPOCZ18fmuS",
        "outputId": "4999bda2-16e5-4c8d-b75a-c6229918b248"
      },
      "outputs": [
        {
          "output_type": "execute_result",
          "data": {
            "text/plain": [
              "hour\n",
              "0      55.138462\n",
              "1      33.859031\n",
              "2      22.899554\n",
              "3      11.757506\n",
              "4       6.407240\n",
              "5      19.767699\n",
              "6      76.259341\n",
              "7     213.116484\n",
              "8     362.769231\n",
              "9     221.780220\n",
              "10    175.092308\n",
              "11    210.674725\n",
              "12    256.508772\n",
              "13    257.787281\n",
              "14    243.442982\n",
              "15    254.298246\n",
              "16    316.372807\n",
              "17    468.765351\n",
              "18    430.859649\n",
              "19    315.278509\n",
              "20    228.517544\n",
              "21    173.370614\n",
              "22    133.576754\n",
              "23     89.508772\n",
              "Name: total, dtype: float64"
            ]
          },
          "metadata": {},
          "execution_count": 5
        }
      ],
      "source": [
        "# Celda 1.2\n",
        "bikes.groupby('hour').total.mean()"
      ]
    },
    {
      "cell_type": "markdown",
      "source": [
        "**Variable \"season\":**\n",
        "La variable \"season\" representa la estación del año (1: primavera, 2: verano, 3: otoño, 4: invierno).\n",
        "El promedio de alquiler de bicicletas es más bajo en la primavera (116.34) y más alto en el otoño (234.42), seguido por el verano (215.25) y el invierno (198.99).\n",
        "Esto sugiere que el otoño es la temporada más popular para alquilar bicicletas, mientras que la primavera es la menos popular.\n",
        "\n",
        "**Variable \"hour\":**\n",
        "La variable \"hour\" representa la hora del día.\n",
        "El promedio de alquiler de bicicletas es bajo durante las primeras horas de la mañana y durante la madrugada (de 0 a 4 horas), con un aumento marcado a partir de las 5 a.m.\n",
        "Se observa un pico en los alquileres de bicicletas entre las 7 a.m. y las 8 a.m., lo que sugiere un uso intensivo de bicicletas durante las horas de la mañana, probablemente debido a las personas que se dirigen al trabajo o a otras actividades.\n",
        "Otra hora con un pico significativo es entre las 5 p.m. y las 6 p.m., lo que indica un uso elevado de bicicletas durante las horas de la tarde, probablemente debido a las personas que regresan a casa después del trabajo.\n",
        "Las horas nocturnas (desde las 7 p.m. hasta las 4 a.m.) tienen un promedio de alquiler de bicicletas más bajo en comparación con las horas del día."
      ],
      "metadata": {
        "id": "JAZcYmoXgMbK"
      }
    },
    {
      "cell_type": "markdown",
      "metadata": {
        "id": "0cBz2qtffmuS"
      },
      "source": [
        "### Punto 2 - Análisis de gráficos\n",
        "\n",
        "Primero ejecute la celda 2.1 y asegúrese de comprender el código y el resultado. Luego, en cada una de celdas 2.2 y 2.3 escriba un código que genere una gráfica del número de bicicletas rentadas promedio para cada valor de la variable \"hour\" (hora) cuando la variable \"season\" es igual a 1 (invierno) e igual a 3 (verano), respectivamente. Analice y escriba sus hallazgos."
      ]
    },
    {
      "cell_type": "code",
      "execution_count": 6,
      "metadata": {
        "colab": {
          "base_uri": "https://localhost:8080/",
          "height": 466
        },
        "id": "WjMtBZYUfmuS",
        "outputId": "b7bfbaa3-4ee3-4973-93be-0acd12c61e80"
      },
      "outputs": [
        {
          "output_type": "execute_result",
          "data": {
            "text/plain": [
              "<Axes: xlabel='hour'>"
            ]
          },
          "metadata": {},
          "execution_count": 6
        },
        {
          "output_type": "display_data",
          "data": {
            "text/plain": [
              "<Figure size 640x480 with 1 Axes>"
            ],
            "image/png": "[encoded data removed]"
          },
          "metadata": {}
        }
      ],
      "source": [
        "# Celda 2.1 - rentas promedio para cada valor de la variable \"hour\"\n",
        "bikes.groupby('hour').total.mean().plot()"
      ]
    },
    {
      "cell_type": "code",
      "execution_count": 7,
      "metadata": {
        "colab": {
          "base_uri": "https://localhost:8080/",
          "height": 489
        },
        "id": "thmcC_gjfmuT",
        "outputId": "2579087f-0c7c-4a33-c183-f148cf796665"
      },
      "outputs": [
        {
          "output_type": "execute_result",
          "data": {
            "text/plain": [
              "<Axes: title={'center': 'Rentas promedio por hora en invierno'}, xlabel='Hora', ylabel='Rentas promedio'>"
            ]
          },
          "metadata": {},
          "execution_count": 7
        },
        {
          "output_type": "display_data",
          "data": {
            "text/plain": [
              "<Figure size 640x480 with 1 Axes>"
            ],
            "image/png": "[encoded data removed]"
          },
          "metadata": {}
        }
      ],
      "source": [
        "# Celda 2.2 - Gráfico del número de bicicletas rentadas promedio para cada valor de la variable \"hour\" en invierno (season = 1)\n",
        "bikes[bikes['season'] == 1].groupby('hour').total.mean().plot(title='Rentas promedio por hora en invierno', xlabel='Hora', ylabel='Rentas promedio')"
      ]
    },
    {
      "cell_type": "code",
      "execution_count": 8,
      "metadata": {
        "colab": {
          "base_uri": "https://localhost:8080/",
          "height": 489
        },
        "id": "u2WBJfNnfmuT",
        "outputId": "f39af016-fdf0-4a16-80f9-a55eb18c7484"
      },
      "outputs": [
        {
          "output_type": "execute_result",
          "data": {
            "text/plain": [
              "<Axes: title={'center': 'Rentas promedio por hora en verano'}, xlabel='Hora', ylabel='Rentas promedio'>"
            ]
          },
          "metadata": {},
          "execution_count": 8
        },
        {
          "output_type": "display_data",
          "data": {
            "text/plain": [
              "<Figure size 640x480 with 1 Axes>"
            ],
            "image/png": "[encoded data removed]"
          },
          "metadata": {}
        }
      ],
      "source": [
        "# Celda 2.3 - Gráfico del número de bicicletas rentadas promedio para cada valor de la variable \"hour\" en verano (season = 3)\n",
        "bikes[bikes['season'] == 3].groupby('hour').total.mean().plot(title='Rentas promedio por hora en verano', xlabel='Hora', ylabel='Rentas promedio')"
      ]
    },
    {
      "cell_type": "markdown",
      "source": [
        "**Para invierno:**\n",
        "Se observa un patrón similar al que se mostró en el análisis descriptivo anterior.\n",
        "Durante las primeras horas de la mañana y durante la madrugada (de 0 a 4 horas), el promedio de alquiler de bicicletas es bajo, con un aumento marcado a partir de las 5 a.m.\n",
        "Hay un pico significativo en los alquileres de bicicletas entre las 7 a.m. y las 8 a.m., lo que sugiere un uso intensivo de bicicletas durante las horas de la mañana.\n",
        "Otro pico notable se observa entre las 4 p.m. y las 6 p.m., lo que indica un uso elevado de bicicletas durante las horas de la tarde, probablemente debido a las personas que regresan a casa después del trabajo.\n",
        "\n",
        "**Para verano:**\n",
        "Se observa un patrón similar al invierno, pero con promedios más altos en general.\n",
        "Durante las primeras horas de la mañana y durante la madrugada (de 0 a 4 horas), el promedio de alquiler de bicicletas es bajo, con un aumento marcado a partir de las 5 a.m.\n",
        "Se observa un pico significativo en los alquileres de bicicletas entre las 7 a.m. y las 8 a.m., lo que sugiere un uso intensivo de bicicletas durante las horas de la mañana, similar a lo que se observó en invierno.\n",
        "Otra diferencia notable es que los picos de uso durante las horas de la tarde parecen ser más pronunciados en verano en comparación con el invierno.\n",
        "En resumen, el análisis de los gráficos y los valores proporcionados confirma los patrones de uso de bicicletas durante diferentes horas del día, tanto en invierno como en verano. Las horas pico corresponden a las horas de la mañana y tarde, con un uso más intenso en verano en comparación con el invierno."
      ],
      "metadata": {
        "id": "-Eq_ybL8j_CI"
      }
    },
    {
      "cell_type": "markdown",
      "metadata": {
        "id": "J9ZGzcUIfmuT"
      },
      "source": [
        "### Punto 3 - Regresión lineal\n",
        "En la celda 3 ajuste un modelo de regresión lineal a todo el conjunto de datos, utilizando \"total\" como variable de respuesta y \"season\" y \"hour\" como las únicas variables predictoras, teniendo en cuenta que la variable \"season\" es categórica. Luego, imprima los coeficientes e interprételos. ¿Cuáles son las limitaciones de la regresión lineal en este caso?"
      ]
    },
    {
      "cell_type": "code",
      "execution_count": 17,
      "metadata": {
        "colab": {
          "base_uri": "https://localhost:8080/"
        },
        "id": "8v__ey3NfmuT",
        "outputId": "369d1a3e-1ff4-414c-d32a-9139bc50e413"
      },
      "outputs": [
        {
          "output_type": "stream",
          "name": "stdout",
          "text": [
            "Coeficientes del modelo de regresión lineal:\n",
            "Intercepto: -6.430262462305961\n",
            "Coeficientes para las variables predictoras: [ 10.54520609 100.31723192 119.46754995  84.08311787]\n",
            "Error cuadrático medio (MSE): 25480.694694371625\n",
            "Raíz cuadrada del error cuadrático medio (RMSE): 159.62673552501042\n",
            "Coeficiente de determinación (R^2): 0.22339339904452493\n"
          ]
        }
      ],
      "source": [
        "# Celda 3 - Ajuste de un modelo de regresión lineal\n",
        "from sklearn.linear_model import LinearRegression\n",
        "from sklearn.preprocessing import OneHotEncoder\n",
        "from sklearn.metrics import mean_squared_error, r2_score\n",
        "\n",
        "# Convertir la variable categórica \"season\" en variables dummy\n",
        "bikes_dummies = pd.get_dummies(bikes, columns=['season'], drop_first=True)\n",
        "\n",
        "# Definir las variables predictoras y la variable de respuesta\n",
        "X = bikes_dummies[['hour', 'season_2', 'season_3', 'season_4']]\n",
        "y = bikes_dummies['total']\n",
        "\n",
        "# Ajustar el modelo de regresión lineal\n",
        "modelo_regresion_lineal = LinearRegression()\n",
        "modelo_regresion_lineal.fit(X, y)\n",
        "\n",
        "# Imprimir los coeficientes\n",
        "print(\"Coeficientes del modelo de regresión lineal:\")\n",
        "print(\"Intercepto:\", modelo_regresion_lineal.intercept_)\n",
        "print(\"Coeficientes para las variables predictoras:\", modelo_regresion_lineal.coef_)\n",
        "\n",
        "# Predicciones del modelo de regresión lineal en el conjunto de entrenamiento\n",
        "predicciones_entrenamiento = modelo_regresion_lineal.predict(X)\n",
        "\n",
        "# Calcular el MSE\n",
        "mse = mean_squared_error(y, predicciones_entrenamiento)\n",
        "\n",
        "# Calcular el RMSE\n",
        "rmse = np.sqrt(mse)\n",
        "\n",
        "# Calcular el R^2\n",
        "r2 = r2_score(y, predicciones_entrenamiento)\n",
        "\n",
        "# Imprimir los resultados\n",
        "print(\"Error cuadrático medio (MSE):\", mse)\n",
        "print(\"Raíz cuadrada del error cuadrático medio (RMSE):\", rmse)\n",
        "print(\"Coeficiente de determinación (R^2):\", r2)"
      ]
    },
    {
      "cell_type": "markdown",
      "source": [
        "El intercepto es -6.43. Esto indica que cuando todas las variables predictoras son cero, el modelo predice que el número esperado de alquileres de bicicletas es de aproximadamente -6.43. Dado que el número de alquileres de bicicletas no puede ser negativo, este valor de intercepto puede no tener una interpretación práctica directa.\n",
        "\n",
        "**Para las variables predictoras:**\n",
        "\n",
        "- El coeficiente para \"hour\" es 10.55. Esto indica que, en promedio, se espera un aumento de aproximadamente 10.55 alquileres de bicicletas por cada hora adicional del día, manteniendo todas las demás variables constantes.\n",
        "- El coeficiente para \"season_2\" (invierno) es 100.32. Esto indica que, en promedio, se espera un aumento de aproximadamente 100.32 alquileres de bicicletas durante el invierno en comparación con la primavera, manteniendo todas las demás variables constantes.\n",
        "- El coeficiente para \"season_3\" (verano) es 119.47. Esto indica que, en promedio, se espera un aumento de aproximadamente 119.47 alquileres de bicicletas durante el verano en comparación con la primavera, manteniendo todas las demás variables constantes.\n",
        "- El coeficiente para \"season_4\" (otoño) es 84.08. Esto indica que, en promedio, se espera un aumento de aproximadamente 84.08 alquileres de bicicletas durante el otoño en comparación con la primavera, manteniendo todas las demás variables constantes.\n",
        "\n",
        "El error cuadrático medio (MSE) es aproximadamente 25480.69, lo que indica la magnitud promedio del error al cuadrado entre las predicciones del modelo y los valores reales de la variable de respuesta.\n",
        "\n",
        "La raíz cuadrada del error cuadrático medio (RMSE) es aproximadamente 159.63, que es la raíz cuadrada del MSE y representa el error promedio entre las predicciones del modelo y los valores reales de la variable de respuesta.\n",
        "\n",
        "El coeficiente de determinación (R^2) es aproximadamente 0.22, lo que sugiere que el modelo explica alrededor del 22.34% de la variabilidad en los datos de respuesta. Esto significa que el modelo no está capturando completamente la variabilidad de los datos y puede no ser muy bueno en la predicción.\n",
        "\n",
        "**Limitaciones de la regresión lineal en este caso:**\n",
        "\n",
        "Las limitaciones mencionadas anteriormente, como la suposición de linealidad y la independencia entre las variables predictoras, aún se aplican. Además, la interpretación del intercepto puede no ser directamente aplicable en este contexto debido a su valor negativo, y puede requerir una consideración adicional o una transformación adecuada de las variables."
      ],
      "metadata": {
        "id": "Xy7dNJUQk4hM"
      }
    },
    {
      "cell_type": "markdown",
      "metadata": {
        "id": "fKwEXRSMfmuT"
      },
      "source": [
        "### Punto 4 - Árbol de decisión manual\n",
        "En la celda 4 cree un árbol de decisiones para pronosticar la variable \"total\" iterando **manualmente** sobre las variables \"hour\" y  \"season\". El árbol debe tener al menos 6 nodos finales."
      ]
    },
    {
      "cell_type": "code",
      "execution_count": 11,
      "metadata": {
        "colab": {
          "base_uri": "https://localhost:8080/"
        },
        "id": "4YDX9k1HfmuT",
        "outputId": "17aa2678-ac68-4f89-d53e-b5214b048830"
      },
      "outputs": [
        {
          "output_type": "stream",
          "name": "stdout",
          "text": [
            "El pronóstico de alquiler de bicicletas para la hora 13 y la estación 3 es: Medio\n"
          ]
        }
      ],
      "source": [
        "# Celda 4 - Árbol de decisión manual\n",
        "def arbol_decision_manual(hour, season):\n",
        "    if season == 1:\n",
        "        if hour < 7:\n",
        "            return \"Bajo\"  # Bajo: menos de 50 alquileres de bicicletas\n",
        "        elif hour < 17:\n",
        "            return \"Medio\"  # Medio: entre 50 y 200 alquileres de bicicletas\n",
        "        else:\n",
        "            return \"Alto\"  # Alto: más de 200 alquileres de bicicletas\n",
        "    elif season == 2:\n",
        "        if hour < 8:\n",
        "            return \"Bajo\"\n",
        "        elif hour < 18:\n",
        "            return \"Medio\"\n",
        "        else:\n",
        "            return \"Alto\"\n",
        "    elif season == 3:\n",
        "        if hour < 6:\n",
        "            return \"Bajo\"\n",
        "        elif hour < 16:\n",
        "            return \"Medio\"\n",
        "        else:\n",
        "            return \"Alto\"\n",
        "    else:  # season == 4\n",
        "        if hour < 9:\n",
        "            return \"Bajo\"\n",
        "        elif hour < 19:\n",
        "            return \"Medio\"\n",
        "        else:\n",
        "            return \"Alto\"\n",
        "\n",
        "# Ejemplo de uso del árbol de decisiones manual\n",
        "hora_ejemplo = 13  # Ejemplo de hora\n",
        "estacion_ejemplo = 3  # Ejemplo de estación (verano)\n",
        "pronostico = arbol_decision_manual(hora_ejemplo, estacion_ejemplo)\n",
        "print(\"El pronóstico de alquiler de bicicletas para la hora\", hora_ejemplo, \"y la estación\", estacion_ejemplo, \"es:\", pronostico)"
      ]
    },
    {
      "cell_type": "markdown",
      "source": [
        "El árbol de decisiones divide los datos en función de la hora y la estación para predecir el número de alquileres de bicicletas. Las divisiones se basan en observaciones de los datos y en criterios de decisión específicos.\n",
        "\n",
        "El pronóstico generado por el árbol de decisiones manual para una hora de 13 y una estación de 3 (verano) es \"Medio\", lo que indica que se espera un número moderado de alquileres de bicicletas en esa situación particular. Este pronóstico se basa en las divisiones definidas en el árbol de decisiones manual, donde se considera que la hora 13 (1 p.m.) y la estación 3 (verano) caen en la categoría de \"Medio\" en términos de número esperado de alquileres de bicicletas."
      ],
      "metadata": {
        "id": "CdyDRkkdlovp"
      }
    },
    {
      "cell_type": "markdown",
      "metadata": {
        "id": "JSg56dcwfmuT"
      },
      "source": [
        "### Punto 5 - Árbol de decisión con librería\n",
        "En la celda 5 entrene un árbol de decisiones con la **librería sklearn**, usando las variables predictoras \"season\" y \"hour\" y calibre los parámetros que considere conveniente para obtener un mejor desempeño. Recuerde dividir los datos en conjuntos de entrenamiento y validación para esto. Comente el desempeño del modelo con alguna métrica de desempeño de modelos de regresión y compare desempeño con el modelo del punto 3."
      ]
    },
    {
      "cell_type": "code",
      "execution_count": 18,
      "metadata": {
        "colab": {
          "base_uri": "https://localhost:8080/"
        },
        "id": "N62TowU7fmuT",
        "outputId": "c65163a0-3302-48b8-8c16-749ddb5f43b2"
      },
      "outputs": [
        {
          "output_type": "stream",
          "name": "stdout",
          "text": [
            "Mejores parámetros encontrados: {'max_depth': 10, 'min_samples_leaf': 1, 'min_samples_split': 2}\n",
            "Error RMSE en conjunto de validación: 115.99073647686878\n",
            "Coeficiente de determinación (R^2): 0.5923932168845228\n"
          ]
        }
      ],
      "source": [
        "# Celda 5 - Árbol de decisión con librería sklearn\n",
        "from sklearn.model_selection import train_test_split, GridSearchCV\n",
        "from sklearn.metrics import mean_squared_error\n",
        "from sklearn.tree import DecisionTreeRegressor\n",
        "\n",
        "# Dividir los datos en conjuntos de entrenamiento y validación\n",
        "X = bikes[['hour', 'season']]\n",
        "y = bikes['total']\n",
        "X_train, X_val, y_train, y_val = train_test_split(X, y, test_size=0.2, random_state=42)\n",
        "\n",
        "# Definir el modelo de árbol de decisiones y los parámetros a calibrar\n",
        "modelo_arbol_decision = DecisionTreeRegressor()\n",
        "parametros = {\n",
        "    'max_depth': [3, 5, 7, 10],\n",
        "    'min_samples_split': [2, 5, 10, 20],\n",
        "    'min_samples_leaf': [1, 2, 4, 8]\n",
        "}\n",
        "\n",
        "# Utilizar búsqueda en la grilla para encontrar los mejores parámetros\n",
        "grid_search = GridSearchCV(modelo_arbol_decision, parametros, cv=5, scoring='neg_mean_squared_error')\n",
        "grid_search.fit(X_train, y_train)\n",
        "\n",
        "# Obtener los mejores parámetros\n",
        "mejores_parametros = grid_search.best_params_\n",
        "print(\"Mejores parámetros encontrados:\", mejores_parametros)\n",
        "\n",
        "# Entrenar el modelo con los mejores parámetros\n",
        "mejor_modelo_arbol_decision = DecisionTreeRegressor(**mejores_parametros)\n",
        "mejor_modelo_arbol_decision.fit(X_train, y_train)\n",
        "\n",
        "# Evaluar el desempeño del modelo en el conjunto de validación\n",
        "predicciones = mejor_modelo_arbol_decision.predict(X_val)\n",
        "r2 = r2_score(y_val, predicciones)\n",
        "error_rmse = mean_squared_error(y_val, predicciones, squared=False)\n",
        "\n",
        "print(\"Error RMSE en conjunto de validación:\", error_rmse)\n",
        "print(\"Coeficiente de determinación (R^2):\", r2)"
      ]
    },
    {
      "cell_type": "markdown",
      "source": [
        "Se entrenó un árbol de decisiones utilizando las variables predictoras \"season\" y \"hour\". Se ajustó los parámetros del árbol de decisiones para obtener un mejor desempeño en la predicción del número de alquileres de bicicletas.\n",
        "\n",
        "Los mejores parámetros encontrados fueron:\n",
        "\n",
        "Profundidad máxima del árbol (max_depth): 10\n",
        "Número mínimo de muestras requeridas para dividir un nodo interno (min_samples_split): 2\n",
        "Número mínimo de muestras requeridas para ser consideradas en un nodo hoja (min_samples_leaf): 1\n",
        "\n",
        "Utilizando estos parámetros, se evaluó el desempeño del modelo en el conjunto de validación y se obtuvo un error RMSE de aproximadamente 115.99. Esto significa que, en promedio, las predicciones del modelo están desviadas en aproximadamente 115.99 unidades del número real de alquileres de bicicletas.\n",
        "\n",
        "El coeficiente de determinación (R^2) es aproximadamente 0.592, lo que sugiere que el modelo explica alrededor del 59.24% de la variabilidad en los datos de respuesta.\n",
        "\n",
        "Comparando este desempeño con el modelo de regresión lineal del punto 3, se observa que el modelo de árbol de decisiones tiene un RMSE menor en el conjunto de validación, lo que sugiere que está haciendo predicciones más precisas en comparación con el modelo de regresión lineal. Esto puede deberse a que el modelo de árbol de decisiones puede capturar relaciones no lineales entre las variables predictoras y la variable de respuesta de una manera más efectiva que el modelo de regresión lineal.\n",
        "\n",
        "Por otro lado, el (R^2) del modelo de regresión lineal es aproximadamente 0.223, lo que indica que el modelo explica alrededor del 22.34% de la variabilidad en los datos de respuesta. Esto sugiere que el modelo de árbol de decisión tiene un mejor ajuste a los datos de validación en comparación con el modelo de regresión lineal."
      ],
      "metadata": {
        "id": "FQCoAd-LuDTR"
      }
    },
    {
      "cell_type": "markdown",
      "metadata": {
        "id": "EGuKwn0cfmuT"
      },
      "source": [
        "## Parte B - Métodos de ensamblajes\n",
        "En esta parte del taller se usará el conjunto de datos de Popularidad de Noticias Online. El objetivo es predecir si la notica es popular o no, la popularidad está dada por la cantidad de reacciones en redes sociales. Para más detalles puede visitar el siguiente enlace: [datos](https://archive.ics.uci.edu/ml/datasets/online+news+popularity)."
      ]
    },
    {
      "cell_type": "markdown",
      "metadata": {
        "id": "_hRZX_KSfmuT"
      },
      "source": [
        "### Datos popularidad de noticias"
      ]
    },
    {
      "cell_type": "code",
      "execution_count": 21,
      "metadata": {
        "colab": {
          "base_uri": "https://localhost:8080/",
          "height": 343
        },
        "id": "W5XeHO_4fmuT",
        "outputId": "d650c4ca-d7f6-4cd4-9d6f-dbb0a4281cbe"
      },
      "outputs": [
        {
          "output_type": "execute_result",
          "data": {
            "text/plain": [
              "                                                 url  timedelta  \\\n",
              "0  http://mashable.com/2014/12/10/cia-torture-rep...       28.0   \n",
              "1  http://mashable.com/2013/10/18/bitlock-kicksta...      447.0   \n",
              "2  http://mashable.com/2013/07/24/google-glass-po...      533.0   \n",
              "3  http://mashable.com/2013/11/21/these-are-the-m...      413.0   \n",
              "4  http://mashable.com/2014/02/11/parking-ticket-...      331.0   \n",
              "\n",
              "   n_tokens_title  n_tokens_content  n_unique_tokens  n_non_stop_words  \\\n",
              "0             9.0             188.0         0.732620               1.0   \n",
              "1             7.0             297.0         0.653199               1.0   \n",
              "2            11.0             181.0         0.660377               1.0   \n",
              "3            12.0             781.0         0.497409               1.0   \n",
              "4             8.0             177.0         0.685714               1.0   \n",
              "\n",
              "   n_non_stop_unique_tokens  num_hrefs  num_self_hrefs  num_imgs  ...  \\\n",
              "0                  0.844262        5.0             1.0       1.0  ...   \n",
              "1                  0.815789        9.0             4.0       1.0  ...   \n",
              "2                  0.775701        4.0             3.0       1.0  ...   \n",
              "3                  0.677350       10.0             3.0       1.0  ...   \n",
              "4                  0.830357        3.0             2.0       1.0  ...   \n",
              "\n",
              "   min_positive_polarity  max_positive_polarity  avg_negative_polarity  \\\n",
              "0               0.200000                   0.80              -0.487500   \n",
              "1               0.160000                   0.50              -0.135340   \n",
              "2               0.136364                   1.00               0.000000   \n",
              "3               0.100000                   1.00              -0.195701   \n",
              "4               0.100000                   0.55              -0.175000   \n",
              "\n",
              "   min_negative_polarity  max_negative_polarity  title_subjectivity  \\\n",
              "0                  -0.60              -0.250000                 0.9   \n",
              "1                  -0.40              -0.050000                 0.1   \n",
              "2                   0.00               0.000000                 0.3   \n",
              "3                  -0.40              -0.071429                 0.0   \n",
              "4                  -0.25              -0.100000                 0.0   \n",
              "\n",
              "   title_sentiment_polarity  abs_title_subjectivity  \\\n",
              "0                       0.8                     0.4   \n",
              "1                      -0.1                     0.4   \n",
              "2                       1.0                     0.2   \n",
              "3                       0.0                     0.5   \n",
              "4                       0.0                     0.5   \n",
              "\n",
              "   abs_title_sentiment_polarity  Popular  \n",
              "0                           0.8        1  \n",
              "1                           0.1        0  \n",
              "2                           1.0        0  \n",
              "3                           0.0        0  \n",
              "4                           0.0        0  \n",
              "\n",
              "[5 rows x 61 columns]"
            ],
            "text/html": [
              "\n",
              "  <div id=\"df-75c718b5-cc2a-44d4-929e-7b696e5a32a6\" class=\"colab-df-container\">\n",
              "    <div>\n",
              "<style scoped>\n",
              "    .dataframe tbody tr th:only-of-type {\n",
              "        vertical-align: middle;\n",
              "    }\n",
              "\n",
              "    .dataframe tbody tr th {\n",
              "        vertical-align: top;\n",
              "    }\n",
              "\n",
              "    .dataframe thead th {\n",
              "        text-align: right;\n",
              "    }\n",
              "</style>\n",
              "<table border=\"1\" class=\"dataframe\">\n",
              "  <thead>\n",
              "    <tr style=\"text-align: right;\">\n",
              "      <th></th>\n",
              "      <th>url</th>\n",
              "      <th>timedelta</th>\n",
              "      <th>n_tokens_title</th>\n",
              "      <th>n_tokens_content</th>\n",
              "      <th>n_unique_tokens</th>\n",
              "      <th>n_non_stop_words</th>\n",
              "      <th>n_non_stop_unique_tokens</th>\n",
              "      <th>num_hrefs</th>\n",
              "      <th>num_self_hrefs</th>\n",
              "      <th>num_imgs</th>\n",
              "      <th>...</th>\n",
              "      <th>min_positive_polarity</th>\n",
              "      <th>max_positive_polarity</th>\n",
              "      <th>avg_negative_polarity</th>\n",
              "      <th>min_negative_polarity</th>\n",
              "      <th>max_negative_polarity</th>\n",
              "      <th>title_subjectivity</th>\n",
              "      <th>title_sentiment_polarity</th>\n",
              "      <th>abs_title_subjectivity</th>\n",
              "      <th>abs_title_sentiment_polarity</th>\n",
              "      <th>Popular</th>\n",
              "    </tr>\n",
              "  </thead>\n",
              "  <tbody>\n",
              "    <tr>\n",
              "      <th>0</th>\n",
              "      <td>http://mashable.com/2014/12/10/cia-torture-rep...</td>\n",
              "      <td>28.0</td>\n",
              "      <td>9.0</td>\n",
              "      <td>188.0</td>\n",
              "      <td>0.732620</td>\n",
              "      <td>1.0</td>\n",
              "      <td>0.844262</td>\n",
              "      <td>5.0</td>\n",
              "      <td>1.0</td>\n",
              "      <td>1.0</td>\n",
              "      <td>...</td>\n",
              "      <td>0.200000</td>\n",
              "      <td>0.80</td>\n",
              "      <td>-0.487500</td>\n",
              "      <td>-0.60</td>\n",
              "      <td>-0.250000</td>\n",
              "      <td>0.9</td>\n",
              "      <td>0.8</td>\n",
              "      <td>0.4</td>\n",
              "      <td>0.8</td>\n",
              "      <td>1</td>\n",
              "    </tr>\n",
              "    <tr>\n",
              "      <th>1</th>\n",
              "      <td>http://mashable.com/2013/10/18/bitlock-kicksta...</td>\n",
              "      <td>447.0</td>\n",
              "      <td>7.0</td>\n",
              "      <td>297.0</td>\n",
              "      <td>0.653199</td>\n",
              "      <td>1.0</td>\n",
              "      <td>0.815789</td>\n",
              "      <td>9.0</td>\n",
              "      <td>4.0</td>\n",
              "      <td>1.0</td>\n",
              "      <td>...</td>\n",
              "      <td>0.160000</td>\n",
              "      <td>0.50</td>\n",
              "      <td>-0.135340</td>\n",
              "      <td>-0.40</td>\n",
              "      <td>-0.050000</td>\n",
              "      <td>0.1</td>\n",
              "      <td>-0.1</td>\n",
              "      <td>0.4</td>\n",
              "      <td>0.1</td>\n",
              "      <td>0</td>\n",
              "    </tr>\n",
              "    <tr>\n",
              "      <th>2</th>\n",
              "      <td>http://mashable.com/2013/07/24/google-glass-po...</td>\n",
              "      <td>533.0</td>\n",
              "      <td>11.0</td>\n",
              "      <td>181.0</td>\n",
              "      <td>0.660377</td>\n",
              "      <td>1.0</td>\n",
              "      <td>0.775701</td>\n",
              "      <td>4.0</td>\n",
              "      <td>3.0</td>\n",
              "      <td>1.0</td>\n",
              "      <td>...</td>\n",
              "      <td>0.136364</td>\n",
              "      <td>1.00</td>\n",
              "      <td>0.000000</td>\n",
              "      <td>0.00</td>\n",
              "      <td>0.000000</td>\n",
              "      <td>0.3</td>\n",
              "      <td>1.0</td>\n",
              "      <td>0.2</td>\n",
              "      <td>1.0</td>\n",
              "      <td>0</td>\n",
              "    </tr>\n",
              "    <tr>\n",
              "      <th>3</th>\n",
              "      <td>http://mashable.com/2013/11/21/these-are-the-m...</td>\n",
              "      <td>413.0</td>\n",
              "      <td>12.0</td>\n",
              "      <td>781.0</td>\n",
              "      <td>0.497409</td>\n",
              "      <td>1.0</td>\n",
              "      <td>0.677350</td>\n",
              "      <td>10.0</td>\n",
              "      <td>3.0</td>\n",
              "      <td>1.0</td>\n",
              "      <td>...</td>\n",
              "      <td>0.100000</td>\n",
              "      <td>1.00</td>\n",
              "      <td>-0.195701</td>\n",
              "      <td>-0.40</td>\n",
              "      <td>-0.071429</td>\n",
              "      <td>0.0</td>\n",
              "      <td>0.0</td>\n",
              "      <td>0.5</td>\n",
              "      <td>0.0</td>\n",
              "      <td>0</td>\n",
              "    </tr>\n",
              "    <tr>\n",
              "      <th>4</th>\n",
              "      <td>http://mashable.com/2014/02/11/parking-ticket-...</td>\n",
              "      <td>331.0</td>\n",
              "      <td>8.0</td>\n",
              "      <td>177.0</td>\n",
              "      <td>0.685714</td>\n",
              "      <td>1.0</td>\n",
              "      <td>0.830357</td>\n",
              "      <td>3.0</td>\n",
              "      <td>2.0</td>\n",
              "      <td>1.0</td>\n",
              "      <td>...</td>\n",
              "      <td>0.100000</td>\n",
              "      <td>0.55</td>\n",
              "      <td>-0.175000</td>\n",
              "      <td>-0.25</td>\n",
              "      <td>-0.100000</td>\n",
              "      <td>0.0</td>\n",
              "      <td>0.0</td>\n",
              "      <td>0.5</td>\n",
              "      <td>0.0</td>\n",
              "      <td>0</td>\n",
              "    </tr>\n",
              "  </tbody>\n",
              "</table>\n",
              "<p>5 rows × 61 columns</p>\n",
              "</div>\n",
              "    <div class=\"colab-df-buttons\">\n",
              "\n",
              "  <div class=\"colab-df-container\">\n",
              "    <button class=\"colab-df-convert\" onclick=\"convertToInteractive('df-75c718b5-cc2a-44d4-929e-7b696e5a32a6')\"\n",
              "            title=\"Convert this dataframe to an interactive table.\"\n",
              "            style=\"display:none;\">\n",
              "\n",
              "  <svg xmlns=\"http://www.w3.org/2000/svg\" height=\"24px\" viewBox=\"0 -960 960 960\">\n",
              "    <path d=\"M120-120v-720h720v720H120Zm60-500h600v-160H180v160Zm220 220h160v-160H400v160Zm0 220h160v-160H400v160ZM180-400h160v-160H180v160Zm440 0h160v-160H620v160ZM180-180h160v-160H180v160Zm440 0h160v-160H620v160Z\"/>\n",
              "  </svg>\n",
              "    </button>\n",
              "\n",
              "  <style>\n",
              "    .colab-df-container {\n",
              "      display:flex;\n",
              "      gap: 12px;\n",
              "    }\n",
              "\n",
              "    .colab-df-convert {\n",
              "      background-color: #E8F0FE;\n",
              "      border: none;\n",
              "      border-radius: 50%;\n",
              "      cursor: pointer;\n",
              "      display: none;\n",
              "      fill: #1967D2;\n",
              "      height: 32px;\n",
              "      padding: 0 0 0 0;\n",
              "      width: 32px;\n",
              "    }\n",
              "\n",
              "    .colab-df-convert:hover {\n",
              "      background-color: #E2EBFA;\n",
              "      box-shadow: 0px 1px 2px rgba(60, 64, 67, 0.3), 0px 1px 3px 1px rgba(60, 64, 67, 0.15);\n",
              "      fill: #174EA6;\n",
              "    }\n",
              "\n",
              "    .colab-df-buttons div {\n",
              "      margin-bottom: 4px;\n",
              "    }\n",
              "\n",
              "    [theme=dark] .colab-df-convert {\n",
              "      background-color: #3B4455;\n",
              "      fill: #D2E3FC;\n",
              "    }\n",
              "\n",
              "    [theme=dark] .colab-df-convert:hover {\n",
              "      background-color: #434B5C;\n",
              "      box-shadow: 0px 1px 3px 1px rgba(0, 0, 0, 0.15);\n",
              "      filter: drop-shadow(0px 1px 2px rgba(0, 0, 0, 0.3));\n",
              "      fill: #FFFFFF;\n",
              "    }\n",
              "  </style>\n",
              "\n",
              "    <script>\n",
              "      const buttonEl =\n",
              "        document.querySelector('#df-75c718b5-cc2a-44d4-929e-7b696e5a32a6 button.colab-df-convert');\n",
              "      buttonEl.style.display =\n",
              "        google.colab.kernel.accessAllowed ? 'block' : 'none';\n",
              "\n",
              "      async function convertToInteractive(key) {\n",
              "        const element = document.querySelector('#df-75c718b5-cc2a-44d4-929e-7b696e5a32a6');\n",
              "        const dataTable =\n",
              "          await google.colab.kernel.invokeFunction('convertToInteractive',\n",
              "                                                    [key], {});\n",
              "        if (!dataTable) return;\n",
              "\n",
              "        const docLinkHtml = 'Like what you see? Visit the ' +\n",
              "          '<a target=\"_blank\" href=https://colab.research.google.com/notebooks/data_table.ipynb>data table notebook</a>'\n",
              "          + ' to learn more about interactive tables.';\n",
              "        element.innerHTML = '';\n",
              "        dataTable['output_type'] = 'display_data';\n",
              "        await google.colab.output.renderOutput(dataTable, element);\n",
              "        const docLink = document.createElement('div');\n",
              "        docLink.innerHTML = docLinkHtml;\n",
              "        element.appendChild(docLink);\n",
              "      }\n",
              "    </script>\n",
              "  </div>\n",
              "\n",
              "\n",
              "<div id=\"df-888e7d19-a85a-480b-b411-7571218e4e97\">\n",
              "  <button class=\"colab-df-quickchart\" onclick=\"quickchart('df-888e7d19-a85a-480b-b411-7571218e4e97')\"\n",
              "            title=\"Suggest charts\"\n",
              "            style=\"display:none;\">\n",
              "\n",
              "<svg xmlns=\"http://www.w3.org/2000/svg\" height=\"24px\"viewBox=\"0 0 24 24\"\n",
              "     width=\"24px\">\n",
              "    <g>\n",
              "        <path d=\"M19 3H5c-1.1 0-2 .9-2 2v14c0 1.1.9 2 2 2h14c1.1 0 2-.9 2-2V5c0-1.1-.9-2-2-2zM9 17H7v-7h2v7zm4 0h-2V7h2v10zm4 0h-2v-4h2v4z\"/>\n",
              "    </g>\n",
              "</svg>\n",
              "  </button>\n",
              "\n",
              "<style>\n",
              "  .colab-df-quickchart {\n",
              "      --bg-color: #E8F0FE;\n",
              "      --fill-color: #1967D2;\n",
              "      --hover-bg-color: #E2EBFA;\n",
              "      --hover-fill-color: #174EA6;\n",
              "      --disabled-fill-color: #AAA;\n",
              "      --disabled-bg-color: #DDD;\n",
              "  }\n",
              "\n",
              "  [theme=dark] .colab-df-quickchart {\n",
              "      --bg-color: #3B4455;\n",
              "      --fill-color: #D2E3FC;\n",
              "      --hover-bg-color: #434B5C;\n",
              "      --hover-fill-color: #FFFFFF;\n",
              "      --disabled-bg-color: #3B4455;\n",
              "      --disabled-fill-color: #666;\n",
              "  }\n",
              "\n",
              "  .colab-df-quickchart {\n",
              "    background-color: var(--bg-color);\n",
              "    border: none;\n",
              "    border-radius: 50%;\n",
              "    cursor: pointer;\n",
              "    display: none;\n",
              "    fill: var(--fill-color);\n",
              "    height: 32px;\n",
              "    padding: 0;\n",
              "    width: 32px;\n",
              "  }\n",
              "\n",
              "  .colab-df-quickchart:hover {\n",
              "    background-color: var(--hover-bg-color);\n",
              "    box-shadow: 0 1px 2px rgba(60, 64, 67, 0.3), 0 1px 3px 1px rgba(60, 64, 67, 0.15);\n",
              "    fill: var(--button-hover-fill-color);\n",
              "  }\n",
              "\n",
              "  .colab-df-quickchart-complete:disabled,\n",
              "  .colab-df-quickchart-complete:disabled:hover {\n",
              "    background-color: var(--disabled-bg-color);\n",
              "    fill: var(--disabled-fill-color);\n",
              "    box-shadow: none;\n",
              "  }\n",
              "\n",
              "  .colab-df-spinner {\n",
              "    border: 2px solid var(--fill-color);\n",
              "    border-color: transparent;\n",
              "    border-bottom-color: var(--fill-color);\n",
              "    animation:\n",
              "      spin 1s steps(1) infinite;\n",
              "  }\n",
              "\n",
              "  @keyframes spin {\n",
              "    0% {\n",
              "      border-color: transparent;\n",
              "      border-bottom-color: var(--fill-color);\n",
              "      border-left-color: var(--fill-color);\n",
              "    }\n",
              "    20% {\n",
              "      border-color: transparent;\n",
              "      border-left-color: var(--fill-color);\n",
              "      border-top-color: var(--fill-color);\n",
              "    }\n",
              "    30% {\n",
              "      border-color: transparent;\n",
              "      border-left-color: var(--fill-color);\n",
              "      border-top-color: var(--fill-color);\n",
              "      border-right-color: var(--fill-color);\n",
              "    }\n",
              "    40% {\n",
              "      border-color: transparent;\n",
              "      border-right-color: var(--fill-color);\n",
              "      border-top-color: var(--fill-color);\n",
              "    }\n",
              "    60% {\n",
              "      border-color: transparent;\n",
              "      border-right-color: var(--fill-color);\n",
              "    }\n",
              "    80% {\n",
              "      border-color: transparent;\n",
              "      border-right-color: var(--fill-color);\n",
              "      border-bottom-color: var(--fill-color);\n",
              "    }\n",
              "    90% {\n",
              "      border-color: transparent;\n",
              "      border-bottom-color: var(--fill-color);\n",
              "    }\n",
              "  }\n",
              "</style>\n",
              "\n",
              "  <script>\n",
              "    async function quickchart(key) {\n",
              "      const quickchartButtonEl =\n",
              "        document.querySelector('#' + key + ' button');\n",
              "      quickchartButtonEl.disabled = true;  // To prevent multiple clicks.\n",
              "      quickchartButtonEl.classList.add('colab-df-spinner');\n",
              "      try {\n",
              "        const charts = await google.colab.kernel.invokeFunction(\n",
              "            'suggestCharts', [key], {});\n",
              "      } catch (error) {\n",
              "        console.error('Error during call to suggestCharts:', error);\n",
              "      }\n",
              "      quickchartButtonEl.classList.remove('colab-df-spinner');\n",
              "      quickchartButtonEl.classList.add('colab-df-quickchart-complete');\n",
              "    }\n",
              "    (() => {\n",
              "      let quickchartButtonEl =\n",
              "        document.querySelector('#df-888e7d19-a85a-480b-b411-7571218e4e97 button');\n",
              "      quickchartButtonEl.style.display =\n",
              "        google.colab.kernel.accessAllowed ? 'block' : 'none';\n",
              "    })();\n",
              "  </script>\n",
              "</div>\n",
              "\n",
              "    </div>\n",
              "  </div>\n"
            ],
            "application/vnd.google.colaboratory.intrinsic+json": {
              "type": "dataframe",
              "variable_name": "df"
            }
          },
          "metadata": {},
          "execution_count": 21
        }
      ],
      "source": [
        "# Lectura de la información de archivo .csv\n",
        "df = pd.read_csv('https://raw.githubusercontent.com/davidzarruk/MIAD_ML_NLP_2023/main/datasets/mashable.csv', index_col=0)\n",
        "df.head()"
      ]
    },
    {
      "cell_type": "code",
      "execution_count": 22,
      "metadata": {
        "colab": {
          "base_uri": "https://localhost:8080/"
        },
        "id": "NVJ_1ImdfmuU",
        "outputId": "099a91ec-4cd5-414b-c110-04e050871e06"
      },
      "outputs": [
        {
          "output_type": "execute_result",
          "data": {
            "text/plain": [
              "0.5"
            ]
          },
          "metadata": {},
          "execution_count": 22
        }
      ],
      "source": [
        "# Definición variable de interes y variables predictoras\n",
        "X = df.drop(['url', 'Popular'], axis=1)\n",
        "y = df['Popular']\n",
        "y.mean()"
      ]
    },
    {
      "cell_type": "code",
      "execution_count": 23,
      "metadata": {
        "id": "qVfQrlZCfmuU"
      },
      "outputs": [],
      "source": [
        "# División de la muestra en set de entrenamiento y prueba\n",
        "from sklearn.model_selection import train_test_split\n",
        "X_train, X_test, y_train, y_test = train_test_split(X, y, random_state=1)"
      ]
    },
    {
      "cell_type": "markdown",
      "metadata": {
        "id": "py9o1z-VfmuU"
      },
      "source": [
        "### Punto 6 - Árbol de decisión y regresión logística\n",
        "En la celda 6 construya un árbol de decisión y una regresión logística. Para el árbol calibre al menos un parámetro y evalúe el desempeño de cada modelo usando las métricas de Accuracy y F1-Score."
      ]
    },
    {
      "cell_type": "code",
      "execution_count": 25,
      "metadata": {
        "colab": {
          "base_uri": "https://localhost:8080/"
        },
        "id": "8HsZUrMSfmuU",
        "outputId": "6aa8ed7f-e6ff-4595-a4e3-8deb30c864bb"
      },
      "outputs": [
        {
          "output_type": "stream",
          "name": "stdout",
          "text": [
            "Desempeño del Árbol de Decisión:\n",
            "Accuracy: 0.5426666666666666\n",
            "F1-Score: 0.5402144772117962\n",
            "\n",
            "Desempeño de la Regresión Logística:\n",
            "Accuracy: 0.6133333333333333\n",
            "F1-Score: 0.6102150537634409\n",
            "Desempeño del Árbol de Decisión (Mejor Modelo):\n",
            "Accuracy: 0.6413333333333333\n",
            "F1-Score: 0.6072992700729928\n"
          ]
        }
      ],
      "source": [
        "# Celda 6\n",
        "from sklearn.tree import DecisionTreeClassifier\n",
        "from sklearn.linear_model import LogisticRegression\n",
        "from sklearn.metrics import accuracy_score, f1_score\n",
        "from sklearn.model_selection import GridSearchCV\n",
        "\n",
        "# Árbol de decisión\n",
        "tree_clf = DecisionTreeClassifier(random_state=1)\n",
        "tree_clf.fit(X_train, y_train)\n",
        "\n",
        "# Regresión logística\n",
        "log_reg = LogisticRegression(random_state=1)\n",
        "log_reg.fit(X_train, y_train)\n",
        "\n",
        "# Predicciones\n",
        "tree_pred = tree_clf.predict(X_test)\n",
        "log_reg_pred = log_reg.predict(X_test)\n",
        "\n",
        "# Métricas de desempeño\n",
        "tree_accuracy = accuracy_score(y_test, tree_pred)\n",
        "tree_f1 = f1_score(y_test, tree_pred)\n",
        "\n",
        "log_reg_accuracy = accuracy_score(y_test, log_reg_pred)\n",
        "log_reg_f1 = f1_score(y_test, log_reg_pred)\n",
        "\n",
        "print(\"Desempeño del Árbol de Decisión:\")\n",
        "print(\"Accuracy:\", tree_accuracy)\n",
        "print(\"F1-Score:\", tree_f1)\n",
        "\n",
        "print(\"\\nDesempeño de la Regresión Logística:\")\n",
        "print(\"Accuracy:\", log_reg_accuracy)\n",
        "print(\"F1-Score:\", log_reg_f1)\n",
        "\n",
        "# Calibración de parámetros para el árbol de decisión\n",
        "param_grid = {'max_depth': [3, 5, 7, 10]}\n",
        "grid_search = GridSearchCV(tree_clf, param_grid, cv=5, scoring='accuracy')\n",
        "grid_search.fit(X_train, y_train)\n",
        "\n",
        "# Mejor modelo\n",
        "best_tree_clf = grid_search.best_estimator_\n",
        "\n",
        "# Predicciones con el mejor modelo\n",
        "best_tree_pred = best_tree_clf.predict(X_test)\n",
        "\n",
        "# Métricas de desempeño del mejor modelo\n",
        "best_tree_accuracy = accuracy_score(y_test, best_tree_pred)\n",
        "best_tree_f1 = f1_score(y_test, best_tree_pred)\n",
        "\n",
        "print(\"Desempeño del Árbol de Decisión (Mejor Modelo):\")\n",
        "print(\"Accuracy:\", best_tree_accuracy)\n",
        "print(\"F1-Score:\", best_tree_f1)"
      ]
    },
    {
      "cell_type": "markdown",
      "source": [
        "En términos de accuracy, la regresión logística (61.33%) supera al árbol de decisión sin ajustar (54.27%).\n",
        "\n",
        "Similarmente, en términos de F1-Score, la regresión logística (0.6102) supera al árbol de decisión sin ajustar (0.5402).\n",
        "\n",
        "Después de la calibración de la profundidad máxima, el desempeño del árbol de decisión mejora significativamente tanto en accuracy como en F1-Score, alcanzando una accuracy del 64.13% y un F1-Score de 0.6073.\n",
        "\n",
        "Aunque la regresión logística aún tiene un mejor desempeño que el árbol de decisión calibrado en términos de F1-Score, el árbol de decisión calibrado muestra una mejora considerable en comparación con el modelo sin ajustar."
      ],
      "metadata": {
        "id": "VC_ChO2_3NYn"
      }
    },
    {
      "cell_type": "markdown",
      "metadata": {
        "id": "cL1YzBSSfmuU"
      },
      "source": [
        "### Punto 7 - Votación Mayoritaria\n",
        "En la celda 7 elabore un esamble con la metodología de **Votación mayoritaria** compuesto por 300 muestras bagged donde:\n",
        "\n",
        "-las primeras 100 muestras vienen de árboles de decisión donde max_depth tome un valor de su elección\\\n",
        "-las segundas 100 muestras vienen de árboles de decisión donde min_samples_leaf tome un valor de su elección\\\n",
        "-las últimas 100 muestras vienen de regresiones logísticas\n",
        "\n",
        "Evalúe cada uno de los tres modelos de manera independiente utilizando las métricas de Accuracy y F1-Score, luego evalúe el ensamble de modelos y compare los resultados.\n",
        "\n",
        "Nota:\n",
        "\n",
        "Para este ensamble de 300 modelos, deben hacer votación mayoritaria. Esto lo pueden hacer de distintas maneras. La más \"fácil\" es haciendo la votación \"manualmente\", como se hace a partir del minuto 5:45 del video de Ejemplo práctico de emsablajes en Coursera. Digo que es la más fácil porque si hacen la votación mayoritaria sobre las 300 predicciones van a obtener lo que se espera.\n",
        "\n",
        "Otra opción es: para cada uno de los 3 tipos de modelos, entrenar un ensamble de 100 modelos cada uno. Predecir para cada uno de esos tres ensambles y luego predecir como un ensamble de los 3 ensambles. La cuestión es que la votación mayoritaria al usar los 3 ensambles no necesariamente va a generar el mismo resultado que si hacen la votación mayoritaria directamente sobre los 300 modelos. Entonces, para los que quieran hacer esto, deben hacer ese último cálculo con cuidado.\n",
        "\n",
        "Para los que quieran hacerlo como ensamble de ensambles, digo que se debe hacer el ensamble final con cuidado por lo siguiente. Supongamos que:\n",
        "\n",
        "* para los 100 árboles del primer tipo, la votación mayoritaria es: 55% de los modelos predicen que la clase de una observación es \"1\"\n",
        "* para los 100 árboles del segundo tipo, la votación mayoritaria es: 55% de los modelos predicen que la clase de una observación es \"1\"\n",
        "* para las 100 regresiones logísticas, la votación mayoritaria es: 10% de los modelos predicen que la clase de una observación es \"1\"\n",
        "\n",
        "Si se hace la votación mayoritaria de los 300 modelos, la predicción de esa observación debería ser: (100*55%+100*55%+100*10%)/300 = 40% de los modelos votan porque la predicción debería ser \"1\". Es decir, la predicción del ensamble es \"0\" (dado que menos del 50% de modelos predijo un 1).\n",
        "\n",
        "Sin embargo, si miramos cada ensamble por separado, el primer ensamble predice \"1\", el segundo ensamble predice \"1\" y el último ensamble predice \"0\". Si hago votación mayoritaria sobre esto, la predicción va a ser \"1\", lo cual es distinto a si se hace la votación mayoritaria sobre los 300 modelos."
      ]
    },
    {
      "cell_type": "code",
      "execution_count": 26,
      "metadata": {
        "colab": {
          "base_uri": "https://localhost:8080/"
        },
        "id": "O4eYLXs7fmuU",
        "outputId": "937a9c8d-b075-4033-9458-f21529a07f9c"
      },
      "outputs": [
        {
          "output_type": "stream",
          "name": "stdout",
          "text": [
            "Desempeño de cada modelo individual:\n",
            "Árbol de decisión (max_depth):\n",
            "Accuracy: 0.658\n",
            "F1-Score: 0.6563965170797053\n",
            "\n",
            "Árbol de decisión (min_samples_leaf):\n",
            "Accuracy: 0.66\n",
            "F1-Score: 0.6653543307086615\n",
            "\n",
            "Regresión Logística:\n",
            "Accuracy: 0.6213333333333333\n",
            "F1-Score: 0.6167341430499326\n",
            "\n",
            "Desempeño del ensamble con votación mayoritaria:\n",
            "Accuracy: 0.66\n",
            "F1-Score: 0.6595460614152203\n"
          ]
        }
      ],
      "source": [
        "# Celda 7\n",
        "from sklearn.ensemble import BaggingClassifier\n",
        "from sklearn.tree import DecisionTreeClassifier\n",
        "from sklearn.linear_model import LogisticRegression\n",
        "from sklearn.metrics import accuracy_score, f1_score\n",
        "import numpy as np\n",
        "\n",
        "# Entrenar 100 árboles de decisión con max_depth\n",
        "tree_depth = DecisionTreeClassifier(max_depth=5)\n",
        "bagged_trees_depth = BaggingClassifier(base_estimator=tree_depth, n_estimators=100)\n",
        "bagged_trees_depth.fit(X_train, y_train)\n",
        "\n",
        "# Entrenar 100 árboles de decisión con min_samples_leaf\n",
        "tree_leaf = DecisionTreeClassifier(min_samples_leaf=5)\n",
        "bagged_trees_leaf = BaggingClassifier(base_estimator=tree_leaf, n_estimators=100)\n",
        "bagged_trees_leaf.fit(X_train, y_train)\n",
        "\n",
        "# Entrenar 100 regresiones logísticas\n",
        "logistic = LogisticRegression()\n",
        "bagged_logistics = BaggingClassifier(base_estimator=logistic, n_estimators=100)\n",
        "bagged_logistics.fit(X_train, y_train)\n",
        "\n",
        "# Evaluar cada modelo individualmente\n",
        "y_pred_tree_depth = bagged_trees_depth.predict(X_test)\n",
        "y_pred_tree_leaf = bagged_trees_leaf.predict(X_test)\n",
        "y_pred_logistic = bagged_logistics.predict(X_test)\n",
        "\n",
        "acc_tree_depth = accuracy_score(y_test, y_pred_tree_depth)\n",
        "acc_tree_leaf = accuracy_score(y_test, y_pred_tree_leaf)\n",
        "acc_logistic = accuracy_score(y_test, y_pred_logistic)\n",
        "\n",
        "f1_tree_depth = f1_score(y_test, y_pred_tree_depth)\n",
        "f1_tree_leaf = f1_score(y_test, y_pred_tree_leaf)\n",
        "f1_logistic = f1_score(y_test, y_pred_logistic)\n",
        "\n",
        "print(\"Desempeño de cada modelo individual:\")\n",
        "print(\"Árbol de decisión (max_depth):\")\n",
        "print(\"Accuracy:\", acc_tree_depth)\n",
        "print(\"F1-Score:\", f1_tree_depth)\n",
        "print()\n",
        "print(\"Árbol de decisión (min_samples_leaf):\")\n",
        "print(\"Accuracy:\", acc_tree_leaf)\n",
        "print(\"F1-Score:\", f1_tree_leaf)\n",
        "print()\n",
        "print(\"Regresión Logística:\")\n",
        "print(\"Accuracy:\", acc_logistic)\n",
        "print(\"F1-Score:\", f1_logistic)\n",
        "\n",
        "# Votación Mayoritaria\n",
        "y_pred_combined = np.sum([y_pred_tree_depth, y_pred_tree_leaf, y_pred_logistic], axis=0)\n",
        "y_pred_combined[y_pred_combined <= 1] = 0\n",
        "y_pred_combined[y_pred_combined > 1] = 1\n",
        "\n",
        "acc_combined = accuracy_score(y_test, y_pred_combined)\n",
        "f1_combined = f1_score(y_test, y_pred_combined)\n",
        "\n",
        "print()\n",
        "print(\"Desempeño del ensamble con votación mayoritaria:\")\n",
        "print(\"Accuracy:\", acc_combined)\n",
        "print(\"F1-Score:\", f1_combined)"
      ]
    },
    {
      "cell_type": "markdown",
      "source": [
        "**Árbol de decisión (max_depth):**\n",
        "\n",
        "Accuracy: 0.658\n",
        "F1-Score: 0.6564\n",
        "Este modelo de árbol de decisión tiene una profundidad máxima especificada. A pesar de su buena precisión, puede estar propenso a sobreajuste si la profundidad es demasiado alta.\n",
        "\n",
        "**Árbol de decisión (min_samples_leaf):**\n",
        "Accuracy: 0.66\n",
        "F1-Score: 0.6654\n",
        "Este modelo de árbol de decisión utiliza el criterio de mínimo de muestras en una hoja. Tiene una precisión similar al modelo anterior, pero podría generalizar mejor debido a su menor tendencia al sobreajuste.\n",
        "\n",
        "**Regresión Logística:**\n",
        "Accuracy: 0.6213\n",
        "F1-Score: 0.6167\n",
        "Este modelo de regresión logística proporciona una precisión más baja en comparación con los árboles de decisión. Sin embargo, sigue siendo útil y puede tener otras ventajas, como la interpretación de coeficientes.\n",
        "\n",
        "**Ensamble con votación mayoritaria:**\n",
        "Accuracy: 0.66\n",
        "F1-Score: 0.6595\n",
        "El ensamble combina las predicciones de los tres modelos anteriores utilizando votación mayoritaria. Se observa que el ensamble tiene un rendimiento similar al mejor modelo individual (árbol de decisión con min_samples_leaf), lo que indica que ha logrado mejorar la precisión general al aprovechar la diversidad de los modelos base."
      ],
      "metadata": {
        "id": "3HoFjnq94hn9"
      }
    },
    {
      "cell_type": "markdown",
      "metadata": {
        "id": "nRg7UikYfmuU"
      },
      "source": [
        "### Punto 8 - Votación Ponderada\n",
        "En la celda 8 elabore un ensamble con la metodología de **Votación ponderada** compuesto por 300 muestras bagged para los mismos tres escenarios del punto 7. Evalúe los modelos utilizando las métricas de Accuracy y F1-Score"
      ]
    },
    {
      "cell_type": "code",
      "execution_count": 29,
      "metadata": {
        "colab": {
          "base_uri": "https://localhost:8080/"
        },
        "id": "QRyVAIHGfmuU",
        "outputId": "ca8b613c-3957-4242-f5a2-497ea73ab81d"
      },
      "outputs": [
        {
          "output_type": "stream",
          "name": "stdout",
          "text": [
            "Desempeño de Árbol de decisión (max_depth):\n",
            "Accuracy: 0.6373333333333333\n",
            "F1-Score: 0.6616915422885573\n",
            "\n",
            "Desempeño de Árbol de decisión (min_samples_leaf):\n",
            "Accuracy: 0.5686666666666667\n",
            "F1-Score: 0.5625422582826234\n",
            "\n",
            "Desempeño de Regresión Logística:\n",
            "Accuracy: 0.6133333333333333\n",
            "F1-Score: 0.6102150537634409\n",
            "\n",
            "Desempeño del ensamble con votación ponderada:\n",
            "Accuracy: 0.6046666666666667\n",
            "F1-Score: 0.60650298606503\n"
          ]
        }
      ],
      "source": [
        "# Celda 8\n",
        "from sklearn.ensemble import BaggingClassifier\n",
        "from sklearn.tree import DecisionTreeClassifier\n",
        "from sklearn.linear_model import LogisticRegression\n",
        "from sklearn.metrics import accuracy_score, f1_score\n",
        "from sklearn.model_selection import train_test_split\n",
        "from sklearn.ensemble import VotingClassifier\n",
        "\n",
        "# Definición de los modelos base\n",
        "tree_max_depth = DecisionTreeClassifier(max_depth=5)\n",
        "tree_min_samples_leaf = DecisionTreeClassifier(min_samples_leaf=10)\n",
        "logistic_regression = LogisticRegression()\n",
        "\n",
        "# Entrenamiento y evaluación de los modelos base\n",
        "models = [tree_max_depth, tree_min_samples_leaf, logistic_regression]\n",
        "model_names = ['Árbol de decisión (max_depth)', 'Árbol de decisión (min_samples_leaf)', 'Regresión Logística']\n",
        "accuracies = []\n",
        "f1_scores = []\n",
        "\n",
        "for model, name in zip(models, model_names):\n",
        "    model.fit(X_train, y_train)\n",
        "    y_pred = model.predict(X_test)\n",
        "    accuracy = accuracy_score(y_test, y_pred)\n",
        "    f1 = f1_score(y_test, y_pred)\n",
        "    accuracies.append(accuracy)\n",
        "    f1_scores.append(f1)\n",
        "    print(f\"Desempeño de {name}:\")\n",
        "    print(f\"Accuracy: {accuracy}\")\n",
        "    print(f\"F1-Score: {f1}\")\n",
        "    print()\n",
        "\n",
        "# Entrenamiento del ensamble con votación ponderada\n",
        "weights = [accuracy for accuracy in accuracies]\n",
        "weighted_voting_ensemble = VotingClassifier(estimators=[(name, model) for name, model in zip(model_names, models)],\n",
        "                                            voting='soft', weights=weights)\n",
        "weighted_voting_ensemble.fit(X_train, y_train)\n",
        "\n",
        "# Evaluación del ensamble\n",
        "y_pred_ensemble = weighted_voting_ensemble.predict(X_test)\n",
        "accuracy_ensemble = accuracy_score(y_test, y_pred_ensemble)\n",
        "f1_score_ensemble = f1_score(y_test, y_pred_ensemble)\n",
        "print(\"Desempeño del ensamble con votación ponderada:\")\n",
        "print(f\"Accuracy: {accuracy_ensemble}\")\n",
        "print(f\"F1-Score: {f1_score_ensemble}\")"
      ]
    },
    {
      "cell_type": "markdown",
      "source": [
        "***Análisis***:\n",
        "\n",
        "El Árbol de decisión con max_depth tiene el mejor desempeño en términos de accuracy y F1-score entre los modelos individuales.\n",
        "El Árbol de decisión con min_samples_leaf tiene el peor desempeño en términos de accuracy y F1-score entre los modelos individuales.\n",
        "La Regresión Logística tiene un desempeño intermedio en términos de accuracy y F1-score entre los modelos individuales.\n",
        "\n",
        "El ensamble con votación ponderada no supera el desempeño del Árbol de decisión con max_depth, lo cual indica que la ponderación de los modelos individuales no logró mejorar el desempeño del mejor modelo individual.\n",
        "Sin embargo, el ensamble con votación ponderada tiene un desempeño similar al de la Regresión Logística, lo cual indica que combinar varios modelos puede ser útil para mejorar el desempeño cuando los modelos individuales tienen un desempeño similar.\n",
        "\n",
        "El desempeño de los modelos se evalúa utilizando tanto accuracy como F1-score. El accuracy mide la proporción de predicciones correctas, mientras que el F1-score es una medida de la precisión y exhaustividad del modelo.\n",
        "Es importante tener en cuenta ambas métricas ya que el accuracy puede ser engañoso en clases desbalanceadas, mientras que el F1-score considera tanto falsos positivos como falsos negativos."
      ],
      "metadata": {
        "id": "zWtrF0kj5tE0"
      }
    },
    {
      "cell_type": "markdown",
      "metadata": {
        "id": "uogb8AscfmuU"
      },
      "source": [
        "### Punto 9 - Comparación y análisis de resultados\n",
        "En la celda 9 comente sobre los resultados obtenidos con las metodologías usadas en los puntos 7 y 8, compare los resultados y enuncie posibles ventajas o desventajas de cada una de ellas."
      ]
    },
    {
      "cell_type": "code",
      "execution_count": 31,
      "metadata": {
        "colab": {
          "base_uri": "https://localhost:8080/",
          "height": 1000
        },
        "id": "ebPxNLLAfmuU",
        "outputId": "15ede6a0-90eb-42dd-d260-c54c45992da8"
      },
      "outputs": [
        {
          "output_type": "display_data",
          "data": {
            "text/plain": [
              "<Figure size 1000x1200 with 2 Axes>"
            ],
            "image/png": "[encoded data removed]"
          },
          "metadata": {}
        }
      ],
      "source": [
        "# Celda 9\n",
        "import matplotlib.pyplot as plt\n",
        "\n",
        "# Definir los nombres de los modelos y las métricas\n",
        "model_names = ['Árbol max_depth', 'Árbol min_samples_leaf', 'Regresión Logística', 'Votación Mayoritaria', 'Votación Ponderada']\n",
        "\n",
        "# Métricas de accuracy y F1-score del punto 7\n",
        "accuracies_punto7 = [0.658, 0.66, 0.613, 0.66, None]\n",
        "f1_scores_punto7 = [0.656, 0.665, 0.616, 0.607, None]\n",
        "\n",
        "# Métricas de accuracy y F1-score del punto 8\n",
        "accuracies_punto8 = [0.64, 0.572, 0.613, None, 0.606]\n",
        "f1_scores_punto8 = [0.663, 0.567, 0.61, None, 0.607]\n",
        "\n",
        "# Reemplazar los valores None con 0 en las listas de métricas\n",
        "accuracies_punto7 = [0 if acc is None else acc for acc in accuracies_punto7]\n",
        "f1_scores_punto7 = [0 if f1 is None else f1 for f1 in f1_scores_punto7]\n",
        "accuracies_punto8 = [0 if acc is None else acc for acc in accuracies_punto8]\n",
        "f1_scores_punto8 = [0 if f1 is None else f1 for f1 in f1_scores_punto8]\n",
        "\n",
        "# Crear la figura y los ejes\n",
        "fig, ax = plt.subplots(2, figsize=(10, 12))\n",
        "\n",
        "# Graficar las métricas de accuracy\n",
        "ax[0].barh(model_names, accuracies_punto7, color='lightblue', label='Punto 7')\n",
        "ax[0].barh(model_names, accuracies_punto8, color='skyblue', label='Punto 8', alpha=0.6)\n",
        "\n",
        "# Añadir etiquetas y título\n",
        "ax[0].set_xlabel('Accuracy')\n",
        "ax[0].set_title('Comparación de Accuracy entre Punto 7 y Punto 8')\n",
        "ax[0].legend()\n",
        "\n",
        "# Graficar las métricas de F1-score\n",
        "ax[1].barh(model_names, f1_scores_punto7, color='salmon', label='Punto 7')\n",
        "ax[1].barh(model_names, f1_scores_punto8, color='red', label='Punto 8', alpha=0.6)\n",
        "\n",
        "# Añadir etiquetas y título\n",
        "ax[1].set_xlabel('F1-Score')\n",
        "ax[1].set_title('Comparación de F1-Score entre Punto 7 y Punto 8')\n",
        "ax[1].legend()\n",
        "\n",
        "# Ajustar el espacio entre subgráficos\n",
        "plt.tight_layout()\n",
        "\n",
        "# Mostrar la gráfica\n",
        "plt.show()"
      ]
    },
    {
      "cell_type": "markdown",
      "source": [
        "**Resultados del Punto 7 (Votación Mayoritaria):**\n",
        "\n",
        "El desempeño del ensamble con votación mayoritaria fue superior al de los modelos individuales en términos de accuracy y F1-score.\n",
        "La votación mayoritaria considera únicamente las predicciones mayoritarias de los modelos individuales, lo que puede llevar a una pérdida de información sobre la confianza de cada modelo en sus predicciones.\n",
        "\n",
        "***Ventajas:***\n",
        "Fácil de implementar y entender.\n",
        "Rápido de calcular.\n",
        "***Desventajas:***\n",
        "Puede perder información sobre la confianza de los modelos individuales.\n",
        "No tiene en cuenta el desempeño relativo de cada modelo individual.\n",
        "\n",
        "**Resultados del Punto 8 (Votación Ponderada):**\n",
        "\n",
        "El desempeño del ensamble con votación ponderada no superó al del mejor modelo individual, pero fue comparable al de otros modelos individuales.\n",
        "La votación ponderada asigna un peso diferente a las predicciones de cada modelo individual, lo que permite considerar la confianza de cada modelo en sus predicciones.\n",
        "\n",
        "***Ventajas:***\n",
        "Permite considerar la confianza de cada modelo individual en sus predicciones.\n",
        "Puede ser útil cuando los modelos individuales tienen desempeños diferentes.\n",
        "\n",
        "***Desventajas:***\n",
        "Requiere determinar los pesos de manera adecuada, lo que puede ser complejo.\n",
        "Puede ser sensible a modelos mal calibrados o sesgados.\n",
        "\n",
        "**Comparación y Análisis:**\n",
        "\n",
        "La votación mayoritaria logró un mejor desempeño general que la votación ponderada en este caso específico.\n",
        "\n",
        "Sin embargo, la votación ponderada puede ser más adecuada cuando los modelos individuales tienen desempeños muy diferentes o cuando se desea considerar la confianza de cada modelo en sus predicciones.\n",
        "\n",
        "La elección entre votación mayoritaria y ponderada depende del contexto del problema, la calidad de los modelos individuales y la importancia de considerar la confianza de cada modelo en las predicciones."
      ],
      "metadata": {
        "id": "YlA4CGIK6-EA"
      }
    }
  ],
  "metadata": {
    "kernelspec": {
      "display_name": "Python 3 (ipykernel)",
      "language": "python",
      "name": "python3"
    },
    "language_info": {
      "codemirror_mode": {
        "name": "ipython",
        "version": 3
      },
      "file_extension": ".py",
      "mimetype": "text/x-python",
      "name": "python",
      "nbconvert_exporter": "python",
      "pygments_lexer": "ipython3",
      "version": "3.9.12"
    },
    "colab": {
      "provenance": [],
      "include_colab_link": true
    }
  },
  "nbformat": 4,
  "nbformat_minor": 0
}